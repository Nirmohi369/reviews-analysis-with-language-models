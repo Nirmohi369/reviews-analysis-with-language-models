{
 "cells": [
  {
   "cell_type": "code",
   "execution_count": 1,
   "id": "c517ac08-ddd1-42df-84ef-697209d71a6b",
   "metadata": {},
   "outputs": [
    {
     "name": "stderr",
     "output_type": "stream",
     "text": [
      "2024-02-15 20:45:18.606463: I tensorflow/core/platform/cpu_feature_guard.cc:182] This TensorFlow binary is optimized to use available CPU instructions in performance-critical operations.\n",
      "To enable the following instructions: AVX2 AVX512F FMA, in other operations, rebuild TensorFlow with the appropriate compiler flags.\n",
      "2024-02-15 20:45:20.118008: W tensorflow/compiler/tf2tensorrt/utils/py_utils.cc:38] TF-TRT Warning: Could not find TensorRT\n"
     ]
    }
   ],
   "source": [
    "import os\n",
    "from transformers import AutoTokenizer, AutoModelForSequenceClassification, DistilBertForSequenceClassification, DistilBertTokenizer, Trainer, TrainingArguments\n",
    "import torch\n",
    "from torch.utils.data import Dataset, DataLoader\n",
    "from sklearn.metrics import accuracy_score, classification_report"
   ]
  },
  {
   "cell_type": "code",
   "execution_count": 2,
   "id": "a5c1a6ba-f0a1-4b4b-8d6f-3fabddb50b7d",
   "metadata": {},
   "outputs": [],
   "source": [
    "def load_data(folder_path, queries=None):\n",
    "    data = []\n",
    "    for filename in os.listdir(folder_path):\n",
    "        if filename.endswith('.txt'):  # Ensuring to read only text files\n",
    "            try:\n",
    "                with open(os.path.join(folder_path, filename), 'r', encoding='utf-8') as file:\n",
    "                    content = file.read()\n",
    "                    if queries:\n",
    "                        for query in queries:\n",
    "                            if query.lower() in content.lower():\n",
    "                                data.append(content)\n",
    "                                break  # Breaks to avoid duplicate entries for a file matching multiple queries\n",
    "                    else:\n",
    "                        data.append(content)\n",
    "            except UnicodeDecodeError as e:\n",
    "                print(f\"Error decoding file {filename}: {str(e)}\")\n",
    "            except Exception as e:\n",
    "                print(f\"Error reading file {filename}: {str(e)}\")\n",
    "    return data"
   ]
  },
  {
   "cell_type": "code",
   "execution_count": 3,
   "id": "66ff84a0-ae69-4a67-bd0e-4808e4c76083",
   "metadata": {},
   "outputs": [],
   "source": [
    "# Paths to your data folders\n",
    "# current_dir = os.getcwd()  # Changed to getcwd for compatibility with notebooks\n",
    "current_dir = os.getcwd()\n",
    "dataset_folder = os.path.join(current_dir, '')\n",
    "train_pos_path = os.path.join(dataset_folder, 'train', 'pos')\n",
    "train_neg_path = os.path.join(dataset_folder, 'train', 'neg')\n",
    "test_pos_path = os.path.join(dataset_folder, 'test', 'pos')\n",
    "test_neg_path = os.path.join(dataset_folder, 'test', 'neg')"
   ]
  },
  {
   "cell_type": "code",
   "execution_count": 4,
   "id": "004aae8e-db04-43db-8212-1b8fac58c529",
   "metadata": {},
   "outputs": [],
   "source": [
    "queries_to_search = [\"great\", \"disappointing\", \"awesome\"]\n",
    "train_pos = load_data(train_pos_path, queries_to_search)\n",
    "train_neg = load_data(train_neg_path, queries_to_search)\n",
    "test_pos = load_data(test_pos_path, queries_to_search)\n",
    "test_neg = load_data(test_neg_path, queries_to_search)"
   ]
  },
  {
   "cell_type": "code",
   "execution_count": 5,
   "id": "ca45abcc-5985-4929-9b83-c4f75959c4b2",
   "metadata": {},
   "outputs": [],
   "source": [
    "# New model name\n",
    "model_name = 'nlptown/bert-base-multilingual-uncased-sentiment'\n",
    "tokenizer = AutoTokenizer.from_pretrained(model_name)\n",
    "model = AutoModelForSequenceClassification.from_pretrained(model_name)\n"
   ]
  },
  {
   "cell_type": "code",
   "execution_count": 6,
   "id": "75db42b3-68f7-4b5e-a24c-db1257068028",
   "metadata": {},
   "outputs": [],
   "source": [
    "# Assuming train_pos, train_neg, test_pos, test_neg are loaded as in the previous steps\n",
    "\n",
    "# Assign labels: 1 for positive, 0 for negative\n",
    "train_labels = [1] * len(train_pos) + [0] * len(train_neg)\n",
    "test_labels = [1] * len(test_pos) + [0] * len(test_neg)\n",
    "\n",
    "# Concatenate positive and negative reviews for training and testing\n",
    "train_texts = train_pos + train_neg\n",
    "test_texts = test_pos + test_neg\n",
    "\n",
    "# Tokenize the texts using the DistilBERT tokenizer\n",
    "train_encodings = tokenizer(train_texts, truncation=True, padding=True)\n",
    "test_encodings = tokenizer(test_texts, truncation=True, padding=True)\n"
   ]
  },
  {
   "cell_type": "code",
   "execution_count": 7,
   "id": "f758dca2-fbc5-4444-b3ad-70030172a3bf",
   "metadata": {},
   "outputs": [],
   "source": [
    "class SentimentDataset(Dataset):\n",
    "    def __init__(self, encodings, labels):\n",
    "        self.encodings = encodings\n",
    "        self.labels = labels\n",
    "\n",
    "    def __getitem__(self, idx):\n",
    "        item = {key: torch.tensor(val[idx]) for key, val in self.encodings.items()}\n",
    "        item['labels'] = torch.tensor(self.labels[idx])\n",
    "        return item\n",
    "\n",
    "    def __len__(self):\n",
    "        return len(self.labels)"
   ]
  },
  {
   "cell_type": "code",
   "execution_count": 8,
   "id": "0a83adcb-eddd-4450-a083-1c70a29c6cb4",
   "metadata": {},
   "outputs": [],
   "source": [
    "train_dataset = SentimentDataset(train_encodings, train_labels)\n",
    "test_dataset = SentimentDataset(test_encodings, test_labels)\n",
    "\n",
    "train_loader = DataLoader(train_dataset, batch_size=8, shuffle=True)\n",
    "test_loader = DataLoader(test_dataset, batch_size=8, shuffle=False)"
   ]
  },
  {
   "cell_type": "code",
   "execution_count": 9,
   "id": "47ed9098-c0d0-45e4-aa04-05229ce9a8b2",
   "metadata": {},
   "outputs": [
    {
     "name": "stderr",
     "output_type": "stream",
     "text": [
      "/home/ashutosh/.local/lib/python3.8/site-packages/torch/cuda/__init__.py:141: UserWarning: CUDA initialization: The NVIDIA driver on your system is too old (found version 11070). Please update your GPU driver by downloading and installing a new version from the URL: http://www.nvidia.com/Download/index.aspx Alternatively, go to: https://pytorch.org to install a PyTorch version that has been compiled with your version of the CUDA driver. (Triggered internally at ../c10/cuda/CUDAFunctions.cpp:108.)\n",
      "  return torch._C._cuda_getDeviceCount() > 0\n",
      "Detected kernel version 4.15.0, which is below the recommended minimum of 5.5.0; this can cause the process to hang. It is recommended to upgrade the kernel to the minimum version or higher.\n"
     ]
    },
    {
     "data": {
      "text/html": [
       "\n",
       "    <div>\n",
       "      \n",
       "      <progress value='174' max='174' style='width:300px; height:20px; vertical-align: middle;'></progress>\n",
       "      [174/174 14:37, Epoch 3/3]\n",
       "    </div>\n",
       "    <table border=\"1\" class=\"dataframe\">\n",
       "  <thead>\n",
       " <tr style=\"text-align: left;\">\n",
       "      <th>Step</th>\n",
       "      <th>Training Loss</th>\n",
       "    </tr>\n",
       "  </thead>\n",
       "  <tbody>\n",
       "    <tr>\n",
       "      <td>10</td>\n",
       "      <td>3.853700</td>\n",
       "    </tr>\n",
       "    <tr>\n",
       "      <td>20</td>\n",
       "      <td>3.231400</td>\n",
       "    </tr>\n",
       "    <tr>\n",
       "      <td>30</td>\n",
       "      <td>2.005300</td>\n",
       "    </tr>\n",
       "    <tr>\n",
       "      <td>40</td>\n",
       "      <td>1.092000</td>\n",
       "    </tr>\n",
       "    <tr>\n",
       "      <td>50</td>\n",
       "      <td>0.738200</td>\n",
       "    </tr>\n",
       "    <tr>\n",
       "      <td>60</td>\n",
       "      <td>0.502300</td>\n",
       "    </tr>\n",
       "    <tr>\n",
       "      <td>70</td>\n",
       "      <td>0.351400</td>\n",
       "    </tr>\n",
       "    <tr>\n",
       "      <td>80</td>\n",
       "      <td>0.202100</td>\n",
       "    </tr>\n",
       "    <tr>\n",
       "      <td>90</td>\n",
       "      <td>0.150400</td>\n",
       "    </tr>\n",
       "    <tr>\n",
       "      <td>100</td>\n",
       "      <td>0.142800</td>\n",
       "    </tr>\n",
       "    <tr>\n",
       "      <td>110</td>\n",
       "      <td>0.206900</td>\n",
       "    </tr>\n",
       "    <tr>\n",
       "      <td>120</td>\n",
       "      <td>0.123600</td>\n",
       "    </tr>\n",
       "    <tr>\n",
       "      <td>130</td>\n",
       "      <td>0.039500</td>\n",
       "    </tr>\n",
       "    <tr>\n",
       "      <td>140</td>\n",
       "      <td>0.077000</td>\n",
       "    </tr>\n",
       "    <tr>\n",
       "      <td>150</td>\n",
       "      <td>0.049300</td>\n",
       "    </tr>\n",
       "    <tr>\n",
       "      <td>160</td>\n",
       "      <td>0.086100</td>\n",
       "    </tr>\n",
       "    <tr>\n",
       "      <td>170</td>\n",
       "      <td>0.091400</td>\n",
       "    </tr>\n",
       "  </tbody>\n",
       "</table><p>"
      ],
      "text/plain": [
       "<IPython.core.display.HTML object>"
      ]
     },
     "metadata": {},
     "output_type": "display_data"
    },
    {
     "data": {
      "text/plain": [
       "TrainOutput(global_step=174, training_loss=0.7464527376424307, metrics={'train_runtime': 888.1466, 'train_samples_per_second': 3.128, 'train_steps_per_second': 0.196, 'total_flos': 730942199764992.0, 'train_loss': 0.7464527376424307, 'epoch': 3.0})"
      ]
     },
     "execution_count": 9,
     "metadata": {},
     "output_type": "execute_result"
    }
   ],
   "source": [
    "training_args = TrainingArguments(\n",
    "    output_dir='./results',  # output directory\n",
    "    num_train_epochs=3,  # total number of training epochs\n",
    "    per_device_train_batch_size=8,  # batch size per device during training\n",
    "    per_device_eval_batch_size=8,  # batch size for evaluation\n",
    "    warmup_steps=500,  # number of warmup steps for learning rate scheduler\n",
    "    weight_decay=0.01,  # strength of weight decay\n",
    "    logging_dir='./logs',  # directory for storing logs\n",
    "    logging_steps=10,\n",
    ")\n",
    "\n",
    "trainer = Trainer(\n",
    "    model=model,  # the instantiated Transformers model to be trained\n",
    "    args=training_args,  # training arguments, defined above\n",
    "    train_dataset=train_dataset,  # training dataset\n",
    "    eval_dataset=test_dataset  # evaluation dataset\n",
    ")\n",
    "\n",
    "trainer.train()"
   ]
  },
  {
   "cell_type": "code",
   "execution_count": 10,
   "id": "fd5dff4f-e31f-423f-834a-bbe0c1473e3f",
   "metadata": {},
   "outputs": [
    {
     "data": {
      "text/html": [],
      "text/plain": [
       "<IPython.core.display.HTML object>"
      ]
     },
     "metadata": {},
     "output_type": "display_data"
    },
    {
     "name": "stdout",
     "output_type": "stream",
     "text": [
      "{'eval_loss': 0.1899251788854599, 'eval_runtime': 54.2644, 'eval_samples_per_second': 17.636, 'eval_steps_per_second': 1.106, 'epoch': 3.0}\n",
      "Accuracy: 0.9508881922675027\n",
      "              precision    recall  f1-score   support\n",
      "\n",
      "    Negative       0.99      0.90      0.94       411\n",
      "    Positive       0.93      0.99      0.96       546\n",
      "\n",
      "    accuracy                           0.95       957\n",
      "   macro avg       0.96      0.94      0.95       957\n",
      "weighted avg       0.95      0.95      0.95       957\n",
      "\n"
     ]
    }
   ],
   "source": [
    "# Evaluate the model on the test set\n",
    "result = trainer.evaluate()\n",
    "print(result)\n",
    "\n",
    "# Get predictions for the test set\n",
    "predictions = trainer.predict(test_dataset=test_dataset)\n",
    "predicted_classes = predictions.predictions.argmax(axis=1)\n",
    "true_labels = test_labels\n",
    "\n",
    "# Calculate accuracy\n",
    "accuracy = accuracy_score(true_labels, predicted_classes)\n",
    "print(f\"Accuracy: {accuracy}\")\n",
    "\n",
    "# Generate classification report\n",
    "class_names = ['Negative', 'Positive']\n",
    "print(classification_report(true_labels, predicted_classes, target_names=class_names))"
   ]
  },
  {
   "cell_type": "code",
   "execution_count": null,
   "id": "47319a9b-908e-4101-91fd-a6543239c7a8",
   "metadata": {},
   "outputs": [],
   "source": []
  }
 ],
 "metadata": {
  "kernelspec": {
   "display_name": "Python [conda env:root] *",
   "language": "python",
   "name": "conda-root-py"
  },
  "language_info": {
   "codemirror_mode": {
    "name": "ipython",
    "version": 3
   },
   "file_extension": ".py",
   "mimetype": "text/x-python",
   "name": "python",
   "nbconvert_exporter": "python",
   "pygments_lexer": "ipython3",
   "version": "3.8.16"
  }
 },
 "nbformat": 4,
 "nbformat_minor": 5
}
